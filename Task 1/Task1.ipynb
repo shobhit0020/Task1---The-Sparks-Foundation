{
 "cells": [
  {
   "cell_type": "markdown",
   "metadata": {
    "id": "xPnHiFbitaud"
   },
   "source": [
    "# **NAME - SHOBHIT SHARMA**\n",
    "\n",
    "---\n",
    "## **Task 1: Prediction using supervised Machine Learning**\n",
    "### **Predict the percentage of a student based on the no. of study hours.**\n",
    "\n",
    "In this task we have to find the students scores based on their study hours. This is simple regression problem type because it has only two variables. This problem can be solved by using regression libraries or we can make regression algorithm.\n",
    "\n"
   ]
  },
  {
   "cell_type": "markdown",
   "metadata": {
    "id": "5Bx6YnPGvanj"
   },
   "source": [
    "## **Importing the required libraries.**"
   ]
  },
  {
   "cell_type": "code",
   "execution_count": 1,
   "metadata": {
    "id": "tMiDSa0HdvKj"
   },
   "outputs": [],
   "source": [
    "#Importing requried packages and libraries\n",
    "\n",
    "import pandas as pd\n",
    "import numpy as np\n",
    "\n",
    "#Importing visual libraries\n",
    "import matplotlib.pyplot as plt\n",
    "%matplotlib inline\n",
    "import seaborn as sns\n",
    "\n",
    "#Importing Machine Learning Libraries\n",
    "from sklearn.model_selection import train_test_split\n",
    "from sklearn.linear_model import LinearRegression\n",
    "\n",
    "#Importing for Error and Accuracy Calculations\n",
    "from sklearn.metrics import mean_absolute_error,mean_squared_error,r2_score\n",
    "\n",
    "#Importing for exporting our final model \n",
    "import pickle"
   ]
  },
  {
   "cell_type": "markdown",
   "metadata": {
    "id": "VfnxHizEv5X7"
   },
   "source": [
    "## **Loading the Dataset**"
   ]
  },
  {
   "cell_type": "code",
   "execution_count": 2,
   "metadata": {
    "colab": {
     "base_uri": "https://localhost:8080/"
    },
    "id": "5n-QEqJLhM6q",
    "outputId": "23e2a732-ccd0-427c-f1c9-0229db1670a5"
   },
   "outputs": [
    {
     "name": "stdout",
     "output_type": "stream",
     "text": [
      "Data loaded successfully\n"
     ]
    }
   ],
   "source": [
    "#Loading dataset from remote url\n",
    "url = 'http://bit.ly/w-data'\n",
    "Data = pd.read_csv(url)\n",
    "print('Data loaded successfully')"
   ]
  },
  {
   "cell_type": "markdown",
   "metadata": {
    "id": "wZMqLpv2v_Vv"
   },
   "source": [
    "## **Exploratory Data Analysis**"
   ]
  },
  {
   "cell_type": "markdown",
   "metadata": {
    "id": "7CGH720oxibS"
   },
   "source": [
    "### **Top and Bottom Values of Dataset**"
   ]
  },
  {
   "cell_type": "code",
   "execution_count": 3,
   "metadata": {
    "colab": {
     "base_uri": "https://localhost:8080/",
     "height": 359
    },
    "id": "SelsXoKtjW3h",
    "outputId": "1eab6eb0-960f-4c32-f456-b8e135167c1a"
   },
   "outputs": [
    {
     "data": {
      "text/html": [
       "<div>\n",
       "<style scoped>\n",
       "    .dataframe tbody tr th:only-of-type {\n",
       "        vertical-align: middle;\n",
       "    }\n",
       "\n",
       "    .dataframe tbody tr th {\n",
       "        vertical-align: top;\n",
       "    }\n",
       "\n",
       "    .dataframe thead th {\n",
       "        text-align: right;\n",
       "    }\n",
       "</style>\n",
       "<table border=\"1\" class=\"dataframe\">\n",
       "  <thead>\n",
       "    <tr style=\"text-align: right;\">\n",
       "      <th></th>\n",
       "      <th>Hours</th>\n",
       "      <th>Scores</th>\n",
       "    </tr>\n",
       "  </thead>\n",
       "  <tbody>\n",
       "    <tr>\n",
       "      <th>0</th>\n",
       "      <td>2.5</td>\n",
       "      <td>21</td>\n",
       "    </tr>\n",
       "    <tr>\n",
       "      <th>1</th>\n",
       "      <td>5.1</td>\n",
       "      <td>47</td>\n",
       "    </tr>\n",
       "    <tr>\n",
       "      <th>2</th>\n",
       "      <td>3.2</td>\n",
       "      <td>27</td>\n",
       "    </tr>\n",
       "    <tr>\n",
       "      <th>3</th>\n",
       "      <td>8.5</td>\n",
       "      <td>75</td>\n",
       "    </tr>\n",
       "    <tr>\n",
       "      <th>4</th>\n",
       "      <td>3.5</td>\n",
       "      <td>30</td>\n",
       "    </tr>\n",
       "  </tbody>\n",
       "</table>\n",
       "</div>"
      ],
      "text/plain": [
       "   Hours  Scores\n",
       "0    2.5      21\n",
       "1    5.1      47\n",
       "2    3.2      27\n",
       "3    8.5      75\n",
       "4    3.5      30"
      ]
     },
     "execution_count": 3,
     "metadata": {},
     "output_type": "execute_result"
    }
   ],
   "source": [
    "Data.head()"
   ]
  },
  {
   "cell_type": "code",
   "execution_count": 4,
   "metadata": {
    "colab": {
     "base_uri": "https://localhost:8080/",
     "height": 204
    },
    "id": "M8dSVcVZxyY-",
    "outputId": "97ef1660-4d1b-4395-d8b1-f063d9d87d2d"
   },
   "outputs": [
    {
     "data": {
      "text/html": [
       "<div>\n",
       "<style scoped>\n",
       "    .dataframe tbody tr th:only-of-type {\n",
       "        vertical-align: middle;\n",
       "    }\n",
       "\n",
       "    .dataframe tbody tr th {\n",
       "        vertical-align: top;\n",
       "    }\n",
       "\n",
       "    .dataframe thead th {\n",
       "        text-align: right;\n",
       "    }\n",
       "</style>\n",
       "<table border=\"1\" class=\"dataframe\">\n",
       "  <thead>\n",
       "    <tr style=\"text-align: right;\">\n",
       "      <th></th>\n",
       "      <th>Hours</th>\n",
       "      <th>Scores</th>\n",
       "    </tr>\n",
       "  </thead>\n",
       "  <tbody>\n",
       "    <tr>\n",
       "      <th>20</th>\n",
       "      <td>2.7</td>\n",
       "      <td>30</td>\n",
       "    </tr>\n",
       "    <tr>\n",
       "      <th>21</th>\n",
       "      <td>4.8</td>\n",
       "      <td>54</td>\n",
       "    </tr>\n",
       "    <tr>\n",
       "      <th>22</th>\n",
       "      <td>3.8</td>\n",
       "      <td>35</td>\n",
       "    </tr>\n",
       "    <tr>\n",
       "      <th>23</th>\n",
       "      <td>6.9</td>\n",
       "      <td>76</td>\n",
       "    </tr>\n",
       "    <tr>\n",
       "      <th>24</th>\n",
       "      <td>7.8</td>\n",
       "      <td>86</td>\n",
       "    </tr>\n",
       "  </tbody>\n",
       "</table>\n",
       "</div>"
      ],
      "text/plain": [
       "    Hours  Scores\n",
       "20    2.7      30\n",
       "21    4.8      54\n",
       "22    3.8      35\n",
       "23    6.9      76\n",
       "24    7.8      86"
      ]
     },
     "execution_count": 4,
     "metadata": {},
     "output_type": "execute_result"
    }
   ],
   "source": [
    "Data.tail()"
   ]
  },
  {
   "cell_type": "markdown",
   "metadata": {
    "id": "zcbR3ksyxp81"
   },
   "source": [
    "### **Shape of Data**"
   ]
  },
  {
   "cell_type": "code",
   "execution_count": 5,
   "metadata": {
    "colab": {
     "base_uri": "https://localhost:8080/"
    },
    "id": "LBoaBzdUks5E",
    "outputId": "3b9f431f-024b-4e66-969a-fab3621c5861"
   },
   "outputs": [
    {
     "data": {
      "text/plain": [
       "(25, 2)"
      ]
     },
     "execution_count": 5,
     "metadata": {},
     "output_type": "execute_result"
    }
   ],
   "source": [
    "Data.shape"
   ]
  },
  {
   "cell_type": "markdown",
   "metadata": {
    "id": "2A6QHxu9yAp6"
   },
   "source": [
    "### **Data Information**"
   ]
  },
  {
   "cell_type": "code",
   "execution_count": 6,
   "metadata": {
    "colab": {
     "base_uri": "https://localhost:8080/"
    },
    "id": "rExVBoF1yJpQ",
    "outputId": "b6b795ac-12b7-4073-e9ee-7d1aa74f0c36"
   },
   "outputs": [
    {
     "name": "stdout",
     "output_type": "stream",
     "text": [
      "<class 'pandas.core.frame.DataFrame'>\n",
      "RangeIndex: 25 entries, 0 to 24\n",
      "Data columns (total 2 columns):\n",
      " #   Column  Non-Null Count  Dtype  \n",
      "---  ------  --------------  -----  \n",
      " 0   Hours   25 non-null     float64\n",
      " 1   Scores  25 non-null     int64  \n",
      "dtypes: float64(1), int64(1)\n",
      "memory usage: 528.0 bytes\n"
     ]
    }
   ],
   "source": [
    "Data.info()"
   ]
  },
  {
   "cell_type": "markdown",
   "metadata": {
    "id": "GNnamwh9GAuU"
   },
   "source": [
    "From the above result we can clearly see that there is no null values and some values are int and sore are floats. So, while taking the input from user we have to take values as a float number"
   ]
  },
  {
   "cell_type": "markdown",
   "metadata": {
    "id": "78m-TY18yN24"
   },
   "source": [
    "### **Statistical Properties of Dataset**"
   ]
  },
  {
   "cell_type": "code",
   "execution_count": 7,
   "metadata": {
    "colab": {
     "base_uri": "https://localhost:8080/",
     "height": 297
    },
    "id": "z-Ja32lIyT0F",
    "outputId": "dbca9ef7-fb69-41c7-eb14-55360d8cc422"
   },
   "outputs": [
    {
     "data": {
      "text/html": [
       "<div>\n",
       "<style scoped>\n",
       "    .dataframe tbody tr th:only-of-type {\n",
       "        vertical-align: middle;\n",
       "    }\n",
       "\n",
       "    .dataframe tbody tr th {\n",
       "        vertical-align: top;\n",
       "    }\n",
       "\n",
       "    .dataframe thead th {\n",
       "        text-align: right;\n",
       "    }\n",
       "</style>\n",
       "<table border=\"1\" class=\"dataframe\">\n",
       "  <thead>\n",
       "    <tr style=\"text-align: right;\">\n",
       "      <th></th>\n",
       "      <th>Hours</th>\n",
       "      <th>Scores</th>\n",
       "    </tr>\n",
       "  </thead>\n",
       "  <tbody>\n",
       "    <tr>\n",
       "      <th>count</th>\n",
       "      <td>25.000000</td>\n",
       "      <td>25.000000</td>\n",
       "    </tr>\n",
       "    <tr>\n",
       "      <th>mean</th>\n",
       "      <td>5.012000</td>\n",
       "      <td>51.480000</td>\n",
       "    </tr>\n",
       "    <tr>\n",
       "      <th>std</th>\n",
       "      <td>2.525094</td>\n",
       "      <td>25.286887</td>\n",
       "    </tr>\n",
       "    <tr>\n",
       "      <th>min</th>\n",
       "      <td>1.100000</td>\n",
       "      <td>17.000000</td>\n",
       "    </tr>\n",
       "    <tr>\n",
       "      <th>25%</th>\n",
       "      <td>2.700000</td>\n",
       "      <td>30.000000</td>\n",
       "    </tr>\n",
       "    <tr>\n",
       "      <th>50%</th>\n",
       "      <td>4.800000</td>\n",
       "      <td>47.000000</td>\n",
       "    </tr>\n",
       "    <tr>\n",
       "      <th>75%</th>\n",
       "      <td>7.400000</td>\n",
       "      <td>75.000000</td>\n",
       "    </tr>\n",
       "    <tr>\n",
       "      <th>max</th>\n",
       "      <td>9.200000</td>\n",
       "      <td>95.000000</td>\n",
       "    </tr>\n",
       "  </tbody>\n",
       "</table>\n",
       "</div>"
      ],
      "text/plain": [
       "           Hours     Scores\n",
       "count  25.000000  25.000000\n",
       "mean    5.012000  51.480000\n",
       "std     2.525094  25.286887\n",
       "min     1.100000  17.000000\n",
       "25%     2.700000  30.000000\n",
       "50%     4.800000  47.000000\n",
       "75%     7.400000  75.000000\n",
       "max     9.200000  95.000000"
      ]
     },
     "execution_count": 7,
     "metadata": {},
     "output_type": "execute_result"
    }
   ],
   "source": [
    "Data.describe()"
   ]
  },
  {
   "cell_type": "markdown",
   "metadata": {
    "id": "NwN5BwepyxtN"
   },
   "source": [
    "### **Unique Values**"
   ]
  },
  {
   "cell_type": "code",
   "execution_count": 8,
   "metadata": {
    "colab": {
     "base_uri": "https://localhost:8080/"
    },
    "id": "Z0r6Y66VlGZb",
    "outputId": "20acd386-57c0-43fe-cc4e-5bdbab57e404"
   },
   "outputs": [
    {
     "data": {
      "text/plain": [
       "Hours     23\n",
       "Scores    23\n",
       "dtype: int64"
      ]
     },
     "execution_count": 8,
     "metadata": {},
     "output_type": "execute_result"
    }
   ],
   "source": [
    "Data.nunique()"
   ]
  },
  {
   "cell_type": "markdown",
   "metadata": {
    "id": "CxQwZngbHC6F"
   },
   "source": [
    "There are 23 unique values in this dataset. "
   ]
  },
  {
   "cell_type": "markdown",
   "metadata": {
    "id": "bV-liH6-1hfe"
   },
   "source": [
    "### **Data Visualization**\n",
    "\n",
    "This is also an important part. By visulizing the data one can see which relation is best describe for that data."
   ]
  },
  {
   "cell_type": "code",
   "execution_count": 9,
   "metadata": {},
   "outputs": [
    {
     "data": {
      "image/png": "[encoded data removed]",
      "text/plain": [
       "<Figure size 720x360 with 1 Axes>"
      ]
     },
     "metadata": {},
     "output_type": "display_data"
    }
   ],
   "source": [
    "sns.set_style('whitegrid')\n",
    "fig = plt.figure(figsize=(10,5))\n",
    "plt.scatter(Data['Hours'],Data['Scores'],c='r',s=50 )\n",
    "plt.xlabel(\"Hours\", fontsize= 15)\n",
    "plt.ylabel(\"Scores\", fontsize= 15)\n",
    "plt.title(\"Hours Vs Scores\", fontsize= 18);"
   ]
  },
  {
   "cell_type": "code",
   "execution_count": 10,
   "metadata": {
    "colab": {
     "base_uri": "https://localhost:8080/",
     "height": 286
    },
    "id": "catEIFfbzR5d",
    "outputId": "8f66bd8c-1d3e-4347-8594-5514e5fd76bf"
   },
   "outputs": [
    {
     "data": {
      "image/png": "[encoded data removed]",
      "text/plain": [
       "<Figure size 720x360 with 2 Axes>"
      ]
     },
     "metadata": {},
     "output_type": "display_data"
    }
   ],
   "source": [
    "#Plotting correlation between feature and target\n",
    "\n",
    "fig = plt.figure(figsize=(10,5))\n",
    "sns.heatmap(Data.corr(), annot = True, linecolor='black');"
   ]
  },
  {
   "cell_type": "markdown",
   "metadata": {
    "id": "Pdo2dIh2IPYb"
   },
   "source": [
    "From this one can clearly see that there is strong positive correlation."
   ]
  },
  {
   "cell_type": "code",
   "execution_count": 11,
   "metadata": {
    "colab": {
     "base_uri": "https://localhost:8080/",
     "height": 295
    },
    "id": "OuQX5is52EQ8",
    "outputId": "51fa53a9-5fe7-456a-ce43-7e3303126372"
   },
   "outputs": [
    {
     "data": {
      "image/png": "[encoded data removed]",
      "text/plain": [
       "<Figure size 720x360 with 1 Axes>"
      ]
     },
     "metadata": {},
     "output_type": "display_data"
    }
   ],
   "source": [
    "#Plotting regression plot to confirm above relationship between feature and target.\n",
    "\n",
    "fig = plt.figure(figsize=(10,5))\n",
    "sns.regplot(x=Data['Hours'],y=Data['Scores'],data=Data, color='b',ci=None)\n",
    "plt.title('Study Hours vs Percentage Scores',fontsize=18);\n",
    "plt.xlabel('Study Hours',fontsize=15);\n",
    "plt.ylabel('Percentage',fontsize=15);\n",
    "plt.show()"
   ]
  },
  {
   "cell_type": "markdown",
   "metadata": {
    "id": "EsqFqRjpItFL"
   },
   "source": [
    "There is strong positive linear relation between the number of hours studied and percentage of score.\n"
   ]
  },
  {
   "cell_type": "markdown",
   "metadata": {
    "id": "AZuMQZP22yRO"
   },
   "source": [
    "## **Data Prepration** "
   ]
  },
  {
   "cell_type": "markdown",
   "metadata": {
    "id": "oTlpCckWJM3f"
   },
   "source": [
    "### **Dividing Data**"
   ]
  },
  {
   "cell_type": "markdown",
   "metadata": {
    "id": "fJKPNnYOI9yw"
   },
   "source": [
    "Dividing data as input and output."
   ]
  },
  {
   "cell_type": "code",
   "execution_count": 12,
   "metadata": {},
   "outputs": [],
   "source": [
    "X = Data.drop('Scores',axis=1)\n",
    "y = Data.Scores"
   ]
  },
  {
   "cell_type": "markdown",
   "metadata": {
    "id": "fHvrSm5ZJRmY"
   },
   "source": [
    "### **Train-Test Split**\n",
    "We dont have extra data for testing. So, we have to split the given data for training as well as testing. One can done this using \"train_test_split()\" inbuilt function of Scikit-Learn library. We gave the test size 24%."
   ]
  },
  {
   "cell_type": "code",
   "execution_count": 13,
   "metadata": {},
   "outputs": [],
   "source": [
    "X_train,X_test,y_train,y_test = train_test_split(X,y,test_size=0.24,random_state =42 )"
   ]
  },
  {
   "cell_type": "markdown",
   "metadata": {
    "id": "oWmQfTd7KXBj"
   },
   "source": [
    "Now we have training and testing dataset."
   ]
  },
  {
   "cell_type": "markdown",
   "metadata": {
    "id": "9xcFK82F5hGp"
   },
   "source": [
    "## **Training**"
   ]
  },
  {
   "cell_type": "markdown",
   "metadata": {
    "id": "gmqApxhXKoqX"
   },
   "source": [
    "We are directly using \"LinearRegression()\" from Scikit-Learn library. "
   ]
  },
  {
   "cell_type": "code",
   "execution_count": 14,
   "metadata": {},
   "outputs": [
    {
     "name": "stdout",
     "output_type": "stream",
     "text": [
      "Training complete.\n"
     ]
    }
   ],
   "source": [
    "model = LinearRegression()\n",
    "model.fit(X_train,y_train)\n",
    "\n",
    "print(\"Training complete.\")"
   ]
  },
  {
   "cell_type": "code",
   "execution_count": 15,
   "metadata": {},
   "outputs": [
    {
     "name": "stdout",
     "output_type": "stream",
     "text": [
      "Coefficient - [9.60328059]\n",
      "Intercept -  3.435969636534537\n"
     ]
    }
   ],
   "source": [
    "print (\"Coefficient -\", model.coef_)\n",
    "print (\"Intercept - \", model.intercept_)"
   ]
  },
  {
   "cell_type": "markdown",
   "metadata": {
    "id": "mGWje94XLbe-"
   },
   "source": [
    "These Coefficient and Intersept values are used to predict the result."
   ]
  },
  {
   "cell_type": "code",
   "execution_count": 16,
   "metadata": {},
   "outputs": [
    {
     "data": {
      "image/png": "[encoded data removed]",
      "text/plain": [
       "<Figure size 504x360 with 1 Axes>"
      ]
     },
     "metadata": {},
     "output_type": "display_data"
    }
   ],
   "source": [
    "# Plotting the regression line\n",
    "line = model.coef_*X + model.intercept_\n",
    "\n",
    "# Plotting for the test data\n",
    "plt.figure(figsize=(7,5))\n",
    "plt.scatter(X, y)\n",
    "plt.plot(X, line,color='red', label='Regression Line')\n",
    "plt.legend()\n",
    "plt.show()"
   ]
  },
  {
   "cell_type": "markdown",
   "metadata": {
    "id": "kTAX6n5J6cTn"
   },
   "source": [
    "## **Prediction**"
   ]
  },
  {
   "cell_type": "code",
   "execution_count": 17,
   "metadata": {},
   "outputs": [],
   "source": [
    "y_pred = model.predict(X_test)"
   ]
  },
  {
   "cell_type": "code",
   "execution_count": 18,
   "metadata": {},
   "outputs": [
    {
     "data": {
      "text/plain": [
       "8     81\n",
       "16    30\n",
       "0     21\n",
       "23    76\n",
       "11    62\n",
       "9     25\n",
       "Name: Scores, dtype: int64"
      ]
     },
     "execution_count": 18,
     "metadata": {},
     "output_type": "execute_result"
    }
   ],
   "source": [
    "y_test"
   ]
  },
  {
   "cell_type": "code",
   "execution_count": 19,
   "metadata": {},
   "outputs": [
    {
     "data": {
      "text/html": [
       "<div>\n",
       "<style scoped>\n",
       "    .dataframe tbody tr th:only-of-type {\n",
       "        vertical-align: middle;\n",
       "    }\n",
       "\n",
       "    .dataframe tbody tr th {\n",
       "        vertical-align: top;\n",
       "    }\n",
       "\n",
       "    .dataframe thead th {\n",
       "        text-align: right;\n",
       "    }\n",
       "</style>\n",
       "<table border=\"1\" class=\"dataframe\">\n",
       "  <thead>\n",
       "    <tr style=\"text-align: right;\">\n",
       "      <th></th>\n",
       "      <th>Original Score</th>\n",
       "      <th>Predicted Score</th>\n",
       "      <th>Hours</th>\n",
       "    </tr>\n",
       "  </thead>\n",
       "  <tbody>\n",
       "    <tr>\n",
       "      <th>8</th>\n",
       "      <td>81</td>\n",
       "      <td>83.143199</td>\n",
       "      <td>8.3</td>\n",
       "    </tr>\n",
       "    <tr>\n",
       "      <th>16</th>\n",
       "      <td>30</td>\n",
       "      <td>27.444171</td>\n",
       "      <td>2.5</td>\n",
       "    </tr>\n",
       "    <tr>\n",
       "      <th>0</th>\n",
       "      <td>21</td>\n",
       "      <td>27.444171</td>\n",
       "      <td>2.5</td>\n",
       "    </tr>\n",
       "    <tr>\n",
       "      <th>23</th>\n",
       "      <td>76</td>\n",
       "      <td>69.698606</td>\n",
       "      <td>6.9</td>\n",
       "    </tr>\n",
       "    <tr>\n",
       "      <th>11</th>\n",
       "      <td>62</td>\n",
       "      <td>60.095325</td>\n",
       "      <td>5.9</td>\n",
       "    </tr>\n",
       "    <tr>\n",
       "      <th>9</th>\n",
       "      <td>25</td>\n",
       "      <td>29.364827</td>\n",
       "      <td>2.7</td>\n",
       "    </tr>\n",
       "  </tbody>\n",
       "</table>\n",
       "</div>"
      ],
      "text/plain": [
       "    Original Score  Predicted Score  Hours\n",
       "8               81        83.143199    8.3\n",
       "16              30        27.444171    2.5\n",
       "0               21        27.444171    2.5\n",
       "23              76        69.698606    6.9\n",
       "11              62        60.095325    5.9\n",
       "9               25        29.364827    2.7"
      ]
     },
     "execution_count": 19,
     "metadata": {},
     "output_type": "execute_result"
    }
   ],
   "source": [
    "#Comparing the original and predicted values\n",
    "df=pd.DataFrame({'Original Score':y_test,'Predicted Score':y_pred})\n",
    "df['Hours'] = X_test\n",
    "df"
   ]
  },
  {
   "cell_type": "code",
   "execution_count": 20,
   "metadata": {},
   "outputs": [
    {
     "name": "stdout",
     "output_type": "stream",
     "text": [
      "Training Score: 0.9475373814076595\n",
      "Test Score: 0.9684201924053588\n"
     ]
    }
   ],
   "source": [
    "#Training and Testing Scores\n",
    "print(\"Training Score:\",model.score(X_train,y_train))\n",
    "print(\"Test Score:\",model.score(X_test,y_test))"
   ]
  },
  {
   "cell_type": "markdown",
   "metadata": {
    "id": "PwV6md3sNYus"
   },
   "source": [
    "From this one can cleary see that we got very good accuracy."
   ]
  },
  {
   "cell_type": "code",
   "execution_count": 21,
   "metadata": {
    "colab": {
     "base_uri": "https://localhost:8080/",
     "height": 370
    },
    "id": "TJIfCfMY7r9V",
    "outputId": "6a2f8342-5c71-47ba-df0c-1b73cff76a46",
    "scrolled": false
   },
   "outputs": [
    {
     "data": {
      "image/png": "[encoded data removed]",
      "text/plain": [
       "<Figure size 432x288 with 1 Axes>"
      ]
     },
     "metadata": {},
     "output_type": "display_data"
    }
   ],
   "source": [
    "#plot of original and predicted values\n",
    "df1=df.drop\n",
    "df.drop('Hours',axis=1).plot(kind='bar',figsize=(6,4))\n",
    "plt.xticks(rotation=0)\n",
    "plt.show()"
   ]
  },
  {
   "cell_type": "code",
   "execution_count": 22,
   "metadata": {},
   "outputs": [
    {
     "data": {
      "text/plain": [
       "<matplotlib.legend.Legend at 0x13d51ab6af0>"
      ]
     },
     "execution_count": 22,
     "metadata": {},
     "output_type": "execute_result"
    },
    {
     "data": {
      "image/png": "[encoded data removed]",
      "text/plain": [
       "<Figure size 576x360 with 1 Axes>"
      ]
     },
     "metadata": {},
     "output_type": "display_data"
    }
   ],
   "source": [
    "#Original vs Predcited Scores Regression Plot\n",
    "fig = plt.figure(figsize=(8,5))\n",
    "sns.regplot(y='Predicted Score',x='Hours',data=df,scatter=False,label='Predicted Score')\n",
    "sns.regplot(y='Original Score',x='Hours',data=df,scatter=False , ci=None, label='Original Score')\n",
    "plt.title('Original vs Predicted Score',fontsize = 20)\n",
    "plt.ylabel('Score' , fontsize = 15)\n",
    "plt.xlabel('Hours' , fontsize = 15)\n",
    "plt.legend()\n"
   ]
  },
  {
   "cell_type": "markdown",
   "metadata": {
    "id": "hd5ZnIBsNlSO"
   },
   "source": [
    "## **Testing**"
   ]
  },
  {
   "cell_type": "markdown",
   "metadata": {
    "id": "eL0HV3UsNtPL"
   },
   "source": [
    "Just give the value of Study hours to know the score."
   ]
  },
  {
   "cell_type": "code",
   "execution_count": 23,
   "metadata": {},
   "outputs": [
    {
     "name": "stdout",
     "output_type": "stream",
     "text": [
      "Enter no. of Hours : 9.25\n",
      "Predicted Score is : 92.26631509123976\n"
     ]
    }
   ],
   "source": [
    "# Testing with some new data\n",
    "\n",
    "test= float(input('Enter no. of Hours : ' ))\n",
    "test1 = np.array(test).reshape(1,1)\n",
    "print(f'Predicted Score is : {model.predict(test1)[0]}')"
   ]
  },
  {
   "cell_type": "markdown",
   "metadata": {
    "id": "2uLlaYwxNz_b"
   },
   "source": [
    "## **Evaluating the model**"
   ]
  },
  {
   "cell_type": "code",
   "execution_count": 24,
   "metadata": {},
   "outputs": [],
   "source": [
    "from sklearn.metrics import mean_absolute_error,mean_squared_error,r2_score"
   ]
  },
  {
   "cell_type": "code",
   "execution_count": 25,
   "metadata": {
    "scrolled": true
   },
   "outputs": [
    {
     "name": "stdout",
     "output_type": "stream",
     "text": [
      "Mean Absolute Error: 3.952349156423974\n",
      "Mean Squared Error: 19.173329294335378\n",
      "Root Mean Squared Error: 4.378736038440246\n",
      "R-2: 0.9684201924053588\n"
     ]
    }
   ],
   "source": [
    "print('Mean Absolute Error:',mean_absolute_error(y_test, y_pred)) \n",
    "print('Mean Squared Error:', mean_squared_error(y_test, y_pred))\n",
    "print('Root Mean Squared Error:', np.sqrt(mean_squared_error(y_test, y_pred)))\n",
    "print('R-2:',r2_score(y_test, y_pred))"
   ]
  },
  {
   "cell_type": "markdown",
   "metadata": {
    "id": "nlagFACiOV5e"
   },
   "source": [
    "From this one can clearly see that our R-2 score is 0.9684 which is very good. \n",
    "\n",
    "It can also be say that model accuracy is 96.84%. \n",
    "\n",
    "This means the algoritm of our model is good. "
   ]
  },
  {
   "cell_type": "markdown",
   "metadata": {},
   "source": [
    "# Saving the Model"
   ]
  },
  {
   "cell_type": "code",
   "execution_count": 26,
   "metadata": {},
   "outputs": [],
   "source": [
    "#Saving Model\n",
    "pickle.dump(model, open('task1model.pkl','wb'))"
   ]
  },
  {
   "cell_type": "markdown",
   "metadata": {
    "id": "p-hK3E8WK4Ow"
   },
   "source": [
    "In liear regression model the equation of the line is \"Y = mX + c\" where 'm' is coefficient and 'c' is intercept.\n",
    "\n",
    "After training our model we got most accurate values of coefficient and intercept."
   ]
  },
  {
   "cell_type": "markdown",
   "metadata": {
    "id": "HV5cWeFwL1vv"
   },
   "source": [
    "From above graph one can clearly see that the regression line goes nearly from all points. Which means our model is trained accurately."
   ]
  },
  {
   "cell_type": "markdown",
   "metadata": {
    "id": "rD7_D2mZPaIm"
   },
   "source": [
    "## **Thank You!**"
   ]
  }
 ],
 "metadata": {
  "colab": {
   "collapsed_sections": [
    "2A6QHxu9yAp6",
    "78m-TY18yN24",
    "NwN5BwepyxtN",
    "bV-liH6-1hfe"
   ],
   "name": "Task1.ipynb",
   "provenance": []
  },
  "kernelspec": {
   "display_name": "Python 3",
   "language": "python",
   "name": "python3"
  },
  "language_info": {
   "codemirror_mode": {
    "name": "ipython",
    "version": 3
   },
   "file_extension": ".py",
   "mimetype": "text/x-python",
   "name": "python",
   "nbconvert_exporter": "python",
   "pygments_lexer": "ipython3",
   "version": "3.8.5"
  }
 },
 "nbformat": 4,
 "nbformat_minor": 1
}
